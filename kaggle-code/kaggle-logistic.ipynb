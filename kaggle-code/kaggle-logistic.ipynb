{
 "cells": [
  {
   "cell_type": "code",
   "execution_count": 20,
   "metadata": {},
   "outputs": [],
   "source": [
    "import pandas as pd\n",
    "from sklearn.linear_model import LogisticRegression\n",
    "from sklearn.preprocessing import LabelEncoder\n",
    "from sklearn.model_selection import train_test_split\n",
    "from sklearn.metrics import accuracy_score, classification_report"
   ]
  },
  {
   "cell_type": "code",
   "execution_count": 22,
   "metadata": {},
   "outputs": [],
   "source": [
    "# Load and preprocess your data\n",
    "train_df = pd.read_csv('/Users/meghnagopalan/Downloads/kaggle-code/train.csv')\n",
    "\n",
    "non_numeric_cols = train_df.select_dtypes(exclude='number').columns.tolist()\n",
    "le = LabelEncoder()\n",
    "for col in non_numeric_cols:\n",
    "    train_df[col] = le.fit_transform(train_df[col].astype(str))"
   ]
  },
  {
   "cell_type": "code",
   "execution_count": 23,
   "metadata": {},
   "outputs": [
    {
     "name": "stdout",
     "output_type": "stream",
     "text": [
      "Accuracy: 56.02%\n",
      "auctionId: -0.0000\n",
      "timeStamp: -0.0000\n",
      "placementId: -0.0000\n",
      "websiteId: -0.0000\n",
      "hashedRefererDeepThree: -0.0000\n",
      "country: 0.0000\n",
      "opeartingSystem: -0.0000\n",
      "browser: -0.0000\n",
      "browserVersion: -0.0000\n",
      "device: 0.0000\n",
      "environmentType: -0.0000\n",
      "integrationType: -0.0000\n",
      "articleSafenessCategorization: -0.0000\n",
      "Intercept: -0.0000\n",
      "Classification Report:\n",
      "               precision    recall  f1-score   support\n",
      "\n",
      "           0       0.56      1.00      0.72     10851\n",
      "           1       0.00      0.00      0.00      8519\n",
      "\n",
      "    accuracy                           0.56     19370\n",
      "   macro avg       0.28      0.50      0.36     19370\n",
      "weighted avg       0.31      0.56      0.40     19370\n",
      "\n"
     ]
    },
    {
     "name": "stderr",
     "output_type": "stream",
     "text": [
      "/usr/local/lib/python3.9/site-packages/sklearn/metrics/_classification.py:1344: UndefinedMetricWarning: Precision and F-score are ill-defined and being set to 0.0 in labels with no predicted samples. Use `zero_division` parameter to control this behavior.\n",
      "  _warn_prf(average, modifier, msg_start, len(result))\n",
      "/usr/local/lib/python3.9/site-packages/sklearn/metrics/_classification.py:1344: UndefinedMetricWarning: Precision and F-score are ill-defined and being set to 0.0 in labels with no predicted samples. Use `zero_division` parameter to control this behavior.\n",
      "  _warn_prf(average, modifier, msg_start, len(result))\n",
      "/usr/local/lib/python3.9/site-packages/sklearn/metrics/_classification.py:1344: UndefinedMetricWarning: Precision and F-score are ill-defined and being set to 0.0 in labels with no predicted samples. Use `zero_division` parameter to control this behavior.\n",
      "  _warn_prf(average, modifier, msg_start, len(result))\n"
     ]
    }
   ],
   "source": [
    "# Split the data into training and testing sets\n",
    "X = train_df.drop('isSold', axis=1)\n",
    "y = train_df['isSold']\n",
    "X_train, X_test, y_train, y_test = train_test_split(X, y, test_size=0.2, random_state=42)\n",
    "\n",
    "# Create and train the logistic regression model\n",
    "clf = LogisticRegression()\n",
    "clf.fit(X_train, y_train)\n",
    "\n",
    "# Predict on the test set\n",
    "y_pred = clf.predict(X_test)\n",
    "\n",
    "accuracy = accuracy_score(y_test, y_pred)\n",
    "print(\"Accuracy: {:.2f}%\".format(accuracy * 100))\n",
    "\n",
    "# Display coefficients of the features and intercept\n",
    "coefficients = clf.coef_[0]\n",
    "intercept = clf.intercept_[0]\n",
    "feature_names = X.columns.tolist()\n",
    "for feature, coefficient in zip(feature_names, coefficients):\n",
    "    print(\"{}: {:.4f}\".format(feature, coefficient))\n",
    "print(\"Intercept: {:.4f}\".format(intercept))\n",
    "\n",
    "# Display classification report\n",
    "classification_rep = classification_report(y_test, y_pred)\n",
    "print(\"Classification Report:\\n\", classification_rep)\n"
   ]
  }
 ],
 "metadata": {
  "interpreter": {
   "hash": "397704579725e15f5c7cb49fe5f0341eb7531c82d19f2c29d197e8b64ab5776b"
  },
  "kernelspec": {
   "display_name": "Python 3.9.13 64-bit",
   "language": "python",
   "name": "python3"
  },
  "language_info": {
   "codemirror_mode": {
    "name": "ipython",
    "version": 3
   },
   "file_extension": ".py",
   "mimetype": "text/x-python",
   "name": "python",
   "nbconvert_exporter": "python",
   "pygments_lexer": "ipython3",
   "version": "3.9.13"
  },
  "orig_nbformat": 4
 },
 "nbformat": 4,
 "nbformat_minor": 2
}
